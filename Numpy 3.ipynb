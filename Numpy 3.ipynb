{
 "cells": [
  {
   "cell_type": "code",
   "execution_count": 1,
   "id": "ce9162ed",
   "metadata": {},
   "outputs": [],
   "source": [
    "import numpy as np"
   ]
  },
  {
   "cell_type": "code",
   "execution_count": 3,
   "id": "bb0c9cf5",
   "metadata": {},
   "outputs": [],
   "source": [
    "a=np.array([[1,4,5,6,8],[54,8,12,11,35]])"
   ]
  },
  {
   "cell_type": "code",
   "execution_count": 10,
   "id": "11da30f6",
   "metadata": {},
   "outputs": [
    {
     "name": "stdout",
     "output_type": "stream",
     "text": [
      "[[ 1  4  5  6  8]\n",
      " [54  8 12 11 35]]\n"
     ]
    }
   ],
   "source": [
    "print(a)"
   ]
  },
  {
   "cell_type": "code",
   "execution_count": 9,
   "id": "f87d644d",
   "metadata": {},
   "outputs": [
    {
     "data": {
      "text/plain": [
       "35"
      ]
     },
     "execution_count": 9,
     "metadata": {},
     "output_type": "execute_result"
    }
   ],
   "source": [
    "# Get specific element\n",
    "a[1,4]"
   ]
  },
  {
   "cell_type": "code",
   "execution_count": 11,
   "id": "3265a4a2",
   "metadata": {},
   "outputs": [
    {
     "data": {
      "text/plain": [
       "11"
      ]
     },
     "execution_count": 11,
     "metadata": {},
     "output_type": "execute_result"
    }
   ],
   "source": [
    "#Get element with negetive Index\n",
    "a[1,-2]"
   ]
  },
  {
   "cell_type": "code",
   "execution_count": 16,
   "id": "efd1298d",
   "metadata": {},
   "outputs": [
    {
     "name": "stdout",
     "output_type": "stream",
     "text": [
      "[54  8 12 11 35]\n",
      "[ 5 12]\n"
     ]
    }
   ],
   "source": [
    "# How to get a row \n",
    "#how to get a coloum\n",
    "\n",
    "print(a[1, :])\n",
    "print(a[: , 2])"
   ]
  },
  {
   "cell_type": "code",
   "execution_count": 18,
   "id": "176067f3",
   "metadata": {},
   "outputs": [
    {
     "name": "stdout",
     "output_type": "stream",
     "text": [
      "[1 5 8]\n"
     ]
    }
   ],
   "source": [
    "#Getting little more Fancy\n",
    "print(a[0,0:5:2])"
   ]
  },
  {
   "cell_type": "code",
   "execution_count": 21,
   "id": "80d91f1a",
   "metadata": {},
   "outputs": [
    {
     "name": "stdout",
     "output_type": "stream",
     "text": [
      "[[[1 2]\n",
      "  [4 7]]\n",
      "\n",
      " [[4 6]\n",
      "  [9 7]]]\n"
     ]
    }
   ],
   "source": [
    "b=np.array([[[1,2],[4,7]],[[4,6],[9,7]]])\n",
    "print(b)"
   ]
  },
  {
   "cell_type": "code",
   "execution_count": 26,
   "id": "9dc13d59",
   "metadata": {},
   "outputs": [
    {
     "data": {
      "text/plain": [
       "6"
      ]
     },
     "execution_count": 26,
     "metadata": {},
     "output_type": "execute_result"
    }
   ],
   "source": [
    "#Egt a specific element with this type of array(Outside in method)\n",
    "b[1,0,1]"
   ]
  },
  {
   "cell_type": "code",
   "execution_count": null,
   "id": "3e1de186",
   "metadata": {},
   "outputs": [],
   "source": []
  }
 ],
 "metadata": {
  "kernelspec": {
   "display_name": "Python 3 (ipykernel)",
   "language": "python",
   "name": "python3"
  },
  "language_info": {
   "codemirror_mode": {
    "name": "ipython",
    "version": 3
   },
   "file_extension": ".py",
   "mimetype": "text/x-python",
   "name": "python",
   "nbconvert_exporter": "python",
   "pygments_lexer": "ipython3",
   "version": "3.11.2"
  }
 },
 "nbformat": 4,
 "nbformat_minor": 5
}
